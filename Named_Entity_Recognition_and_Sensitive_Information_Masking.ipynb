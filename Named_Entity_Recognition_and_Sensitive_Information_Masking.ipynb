{
  "nbformat": 4,
  "nbformat_minor": 0,
  "metadata": {
    "colab": {
      "provenance": []
    },
    "kernelspec": {
      "name": "python3",
      "display_name": "Python 3"
    },
    "language_info": {
      "name": "python"
    }
  },
  "cells": [
    {
      "cell_type": "markdown",
      "source": [
        "# **Named Entity Recognition and Sensitive Information Masking**"
      ],
      "metadata": {
        "id": "S3EbBjnGomcj"
      }
    },
    {
      "cell_type": "markdown",
      "source": [
        "## Introduction\n",
        "\n",
        "In this notebook, we will explore how to use Natural Language Processing (NLP) techniques to handle sensitive information in text data. Our focus will be on two main tasks:\n",
        "\n",
        "\n",
        "1. Named Entity Recognition (NER) for Person Names using SpaCy:\n",
        "We will use SpaCy, a powerful NLP library, to identify and mask names of people mentioned in the text. NER helps us automatically detect specific entities like person names, organizations, locations, and more for text data analysis and privacy protection.\n",
        "\n",
        "2. Hiding Emails, Phone Numbers, and URLs using the clean-text Library:\n",
        "Apart from identifying person names, we often need to anonymize other sensitive information, such as email addresses and URLs. For this task, we will use the clean-text library, which provides simple and effective functions to clean and standardize text data by removing or masking unwanted patterns like emails, URLs, and phone numbers. It also allows us to perform further data cleaning, which is why I will include those lines in the code block.\n",
        "\n"
      ],
      "metadata": {
        "id": "L7sFTzA_mt32"
      }
    },
    {
      "cell_type": "markdown",
      "source": [
        "## Why is this important?\n",
        "\n",
        "With the growing concerns around data privacy and security, it is essential to handle sensitive information carefully. Whether working with customer data, social media content, or any other text data, it's crucial to anonymize identifiable information to comply with privacy regulations like GDPR and to maintain trust with users."
      ],
      "metadata": {
        "id": "K2pehr4-qnLN"
      }
    },
    {
      "cell_type": "markdown",
      "source": [
        "## What will you learn?\n",
        "How to perform Named Entity Recognition (NER) using SpaCy to identify and mask person names in text data.\n",
        "How to use the clean-text library to effectively hide emails, URLs, and other sensitive patterns in the text.\n",
        "How to combine these techniques to create a robust pipeline for anonymizing sensitive information in text datasets.\n"
      ],
      "metadata": {
        "id": "gSXcwoBVrIN4"
      }
    },
    {
      "cell_type": "markdown",
      "source": [
        "## Steps to Follow\n",
        "\n",
        "1.   Install the required libraries: We will start by installing SpaCy and clean-text to our Python environment.\n",
        "2.   Load SpaCy’s pre-trained model: We will use SpaCy's English model to perform NER on our text data. Here, it is crucial to translate non-English dataset before using it.\n",
        "3. Write functions for masking names and other sensitive information:\n",
        "4. We'll create custom functions that use SpaCy for person names and clean-text for emails and URLs.\n",
        "5. Apply these functions to sample text data: We'll test our functions on sample text to see how they perform in masking sensitive information.\n",
        "\n",
        "Let's get started!\n",
        "\n"
      ],
      "metadata": {
        "id": "fyVibIEKrSUN"
      }
    },
    {
      "cell_type": "markdown",
      "source": [
        "## 1.   Install the required libraries\n",
        "\n"
      ],
      "metadata": {
        "id": "D82TStH1tQoC"
      }
    },
    {
      "cell_type": "code",
      "source": [
        "!pip install clean-text\n",
        "!python -m spacy download en_core_web_sm"
      ],
      "metadata": {
        "id": "rArf5aNnmqeN"
      },
      "execution_count": null,
      "outputs": []
    },
    {
      "cell_type": "markdown",
      "source": [
        "## 2.   Import Libraries and Load SpaCy Model"
      ],
      "metadata": {
        "id": "LW2uo36ZtsD1"
      }
    },
    {
      "cell_type": "code",
      "source": [
        "import pandas as pd\n",
        "import numpy as np\n",
        "import spacy\n",
        "import re\n",
        "from cleantext import clean"
      ],
      "metadata": {
        "id": "7mRMuieckw3B"
      },
      "execution_count": 45,
      "outputs": []
    },
    {
      "cell_type": "code",
      "source": [
        "nlp = spacy.load('en_core_web_sm')"
      ],
      "metadata": {
        "id": "JbkmW0Ext2WO"
      },
      "execution_count": 46,
      "outputs": []
    },
    {
      "cell_type": "markdown",
      "source": [
        "## 3. Define Functions for Masking Names, Emails, and URLs"
      ],
      "metadata": {
        "id": "FMgfRlMNt4qg"
      }
    },
    {
      "cell_type": "code",
      "source": [
        "def mask_person_names(text):\n",
        "    \"\"\"\n",
        "    Function to mask person names using SpaCy NER.\n",
        "    Replaces recognized person names with [PERSON].\n",
        "    \"\"\"\n",
        "    doc = nlp(text)\n",
        "    masked_text = text\n",
        "    for ent in doc.ents:\n",
        "        if ent.label_ == \"PERSON\":\n",
        "            masked_text = masked_text.replace(ent.text, \"[PERSON]\")\n",
        "    return masked_text\n",
        "\n",
        "def mask_sensitive_entity(text):\n",
        "    \"\"\"\n",
        "    Function to mask emails, URLs, and phone numbers using clean-text library.\n",
        "    Replaces these patterns with placeholders like [EMAIL], [URL], and [PHONE].\n",
        "    \"\"\"\n",
        "    cleaned_text = clean(text,\n",
        "    no_urls=True,                  # replace all URLs with a special token\n",
        "    no_emails=True,                # replace all email addresses with a special token\n",
        "    no_phone_numbers=True,         # replace all phone numbers with a special token\n",
        "    fix_unicode=True,               # fix various unicode errors\n",
        "    to_ascii=True,                  # transliterate to closest ASCII representation\n",
        "    lower=False,                    # lowercase text\n",
        "    no_line_breaks=False,           # fully strip line breaks as opposed to only normalizing them\n",
        "    no_numbers=False,               # replace all numbers with a special token\n",
        "    no_digits=False,                # replace all digits with a special token\n",
        "    no_currency_symbols=False,      # replace all currency symbols with a special token\n",
        "    no_punct=False,                 # remove punctuations\n",
        "    replace_with_punct=\"\",          # instead of removing punctuations you may replace them\n",
        "    replace_with_url=\"<URL>\",\n",
        "    replace_with_email=\"<EMAIL>\",\n",
        "    replace_with_phone_number=\"<PHONE>\",\n",
        "    replace_with_number=\"<NUMBER>\",\n",
        "    replace_with_digit=\"0\",\n",
        "    replace_with_currency_symbol=\"<CUR>\",\n",
        "    lang=\"en\"                       # set to 'de' for German special handling\n",
        ")\n",
        "\n",
        "    return cleaned_text"
      ],
      "metadata": {
        "id": "ghbETnlvuAuk"
      },
      "execution_count": 62,
      "outputs": []
    },
    {
      "cell_type": "markdown",
      "source": [
        "## 4. Test the Functions on Sample Text"
      ],
      "metadata": {
        "id": "pWVWwvMeuSDA"
      }
    },
    {
      "cell_type": "code",
      "source": [
        "# Sample text\n",
        "sample_text = \"\"\"\n",
        "Hello, my name is Lara Smith. You can reach me at lara.smith@example.com or visit my website at https://www.larasmith.com. Feel free to call me at +1-123-456-7890.\n",
        "My colleague, Jane Smith, also shares similar contact details.\n",
        "\"\"\"\n",
        "\n",
        "# Apply the person name masking function\n",
        "masked_names_text = mask_person_names(sample_text)\n",
        "print(\"Text after masking person names:\\n\", masked_names_text)\n",
        "\n",
        "# Apply the sensitive info masking function\n",
        "masked_info_text = mask_sensitive_entity(masked_names_text)\n",
        "print(\"\\nText after masking sensitive information:\\n\", masked_info_text)\n"
      ],
      "metadata": {
        "colab": {
          "base_uri": "https://localhost:8080/"
        },
        "id": "w_FHbVDOnXIq",
        "outputId": "fc94c24f-d9c5-4acd-ca60-6ee86d3e775f"
      },
      "execution_count": 64,
      "outputs": [
        {
          "output_type": "stream",
          "name": "stdout",
          "text": [
            "Text after masking person names:\n",
            " \n",
            "Hello, my name is [PERSON]. You can reach me at lara.smith@example.com or visit my website at https://www.larasmith.com. Feel free to call me at +1-123-456-7890. \n",
            "My colleague, [PERSON], also shares similar contact details.\n",
            "\n",
            "\n",
            "Text after masking sensitive information:\n",
            " Hello, my name is [PERSON]. You can reach me at <EMAIL> or visit my website at <URL>. Feel free to call me at <PHONE>.\n",
            "My colleague, [PERSON], also shares similar contact details.\n"
          ]
        }
      ]
    },
    {
      "cell_type": "markdown",
      "source": [
        "# 5. Combine Both Functions for Complete Anonymization\n"
      ],
      "metadata": {
        "id": "3OPAA41Mvu_H"
      }
    },
    {
      "cell_type": "code",
      "source": [
        "def anonymize_text(text):\n",
        "    \"\"\"\n",
        "    Function to fully anonymize text by first masking person names,\n",
        "    then masking emails, URLs, and phone numbers.\n",
        "    \"\"\"\n",
        "    text_with_masked_names = mask_person_names(text)\n",
        "    fully_anonymized_text = mask_sensitive_entity(text_with_masked_names)\n",
        "    return fully_anonymized_text\n",
        "\n",
        "# Test the combined function\n",
        "fully_anonymized_text = anonymize_text(sample_text)\n",
        "print(\"\\nFully anonymized text:\\n\", fully_anonymized_text)"
      ],
      "metadata": {
        "colab": {
          "base_uri": "https://localhost:8080/"
        },
        "id": "BY6CIkjEvyJR",
        "outputId": "52bb88df-1345-42dd-a10a-7b4c53b5f08f"
      },
      "execution_count": 65,
      "outputs": [
        {
          "output_type": "stream",
          "name": "stdout",
          "text": [
            "\n",
            "Fully anonymized text:\n",
            " Hello, my name is [PERSON]. You can reach me at <EMAIL> or visit my website at <URL>. Feel free to call me at <PHONE>.\n",
            "My colleague, [PERSON], also shares similar contact details.\n"
          ]
        }
      ]
    }
  ]
}